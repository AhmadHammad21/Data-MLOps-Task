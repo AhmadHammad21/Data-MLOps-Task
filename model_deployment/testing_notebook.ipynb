{
 "cells": [
  {
   "cell_type": "code",
   "execution_count": 1,
   "metadata": {},
   "outputs": [],
   "source": [
    "import pandas as pd\n",
    "\n",
    "import sqlite3\n",
    "\n",
    "DATABASE = \"logging/logging.db\""
   ]
  },
  {
   "cell_type": "code",
   "execution_count": 2,
   "metadata": {},
   "outputs": [
    {
     "data": {
      "text/plain": [
       "<sqlite3.Cursor at 0x2373b0844c0>"
      ]
     },
     "execution_count": 2,
     "metadata": {},
     "output_type": "execute_result"
    }
   ],
   "source": [
    "conn = sqlite3.connect(DATABASE)\n",
    "c = conn.cursor()\n",
    "\n",
    "c.execute(\"SELECT * FROM logs\")"
   ]
  },
  {
   "cell_type": "code",
   "execution_count": 3,
   "metadata": {},
   "outputs": [
    {
     "name": "stdout",
     "output_type": "stream",
     "text": [
      "(1, '2001', '[1, 2, 3]', '2025-01-22 21:56:20')\n",
      "(2, '2001', '[1, 2, 3]', '2025-01-22 21:58:01')\n",
      "(3, '2001', '[1, 2, 3]', '2025-01-22 21:58:19')\n",
      "(4, '2005', '[1, 2, 3]', '2025-01-22 22:00:44')\n",
      "(5, '2005', '[1, 2, 3]', '2025-01-22 22:36:11')\n",
      "(6, '2005', '[1, 2, 3]', '2025-01-22 22:36:32')\n",
      "(7, '2005', '[1, 2, 3]', '2025-01-22 22:38:09')\n",
      "(8, '2005', '[1, 2, 3]', '2025-01-22 22:40:45')\n",
      "(9, '2005', '[1, 2, 3]', '2025-01-22 22:42:02')\n",
      "(10, '2005', '[1, 2, 3]', '2025-01-22 22:42:49')\n",
      "(11, '2005', '[1, 2, 3]', '2025-01-22 22:49:38')\n",
      "(12, '2012', '[1, 2, 3]', '2025-01-22 22:50:22')\n",
      "(13, '2012', '[1, 2, 3]', '2025-01-23 09:17:04')\n",
      "(14, '2012', '[1, 2, 3]', '2025-01-23 09:17:21')\n",
      "(15, '2012', '[1, 2, 3]', '2025-01-23 09:49:48')\n",
      "(16, '11111', '[1, 2, 3]', '2025-01-23 09:50:23')\n",
      "(17, '11111', '[1, 2, 3]', '2025-01-23 09:51:41')\n",
      "(18, '11111', '[1, 2, 3]', '2025-01-23 09:53:18')\n",
      "(19, '13131', '[1, 2, 3]', '2025-01-23 10:36:55')\n",
      "(20, '55555', '[1, 2, 3]', '2025-01-23 10:37:11')\n",
      "(21, '55555', '[1, 2, 3]', '2025-01-23 10:40:21')\n",
      "(22, '99999', '[1, 2, 3]', '2025-01-23 10:40:41')\n"
     ]
    }
   ],
   "source": [
    "# Fetch all results\n",
    "rows = c.fetchall()\n",
    "for row in rows:\n",
    "    print(row)"
   ]
  }
 ],
 "metadata": {
  "kernelspec": {
   "display_name": "mlops_env",
   "language": "python",
   "name": "python3"
  },
  "language_info": {
   "codemirror_mode": {
    "name": "ipython",
    "version": 3
   },
   "file_extension": ".py",
   "mimetype": "text/x-python",
   "name": "python",
   "nbconvert_exporter": "python",
   "pygments_lexer": "ipython3",
   "version": "3.12.8"
  }
 },
 "nbformat": 4,
 "nbformat_minor": 2
}
