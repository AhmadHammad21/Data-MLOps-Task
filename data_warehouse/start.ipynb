{
 "cells": [
  {
   "cell_type": "code",
   "execution_count": 2,
   "metadata": {},
   "outputs": [],
   "source": [
    "import pandas as pd"
   ]
  },
  {
   "cell_type": "code",
   "execution_count": 18,
   "metadata": {},
   "outputs": [],
   "source": [
    "df = pd.read_csv(\"data/Sales.csv\")"
   ]
  },
  {
   "cell_type": "code",
   "execution_count": 19,
   "metadata": {},
   "outputs": [
    {
     "data": {
      "text/plain": [
       "(9800, 18)"
      ]
     },
     "execution_count": 19,
     "metadata": {},
     "output_type": "execute_result"
    }
   ],
   "source": [
    "df.shape"
   ]
  },
  {
   "cell_type": "code",
   "execution_count": 22,
   "metadata": {},
   "outputs": [
    {
     "data": {
      "text/html": [
       "<div>\n",
       "<style scoped>\n",
       "    .dataframe tbody tr th:only-of-type {\n",
       "        vertical-align: middle;\n",
       "    }\n",
       "\n",
       "    .dataframe tbody tr th {\n",
       "        vertical-align: top;\n",
       "    }\n",
       "\n",
       "    .dataframe thead th {\n",
       "        text-align: right;\n",
       "    }\n",
       "</style>\n",
       "<table border=\"1\" class=\"dataframe\">\n",
       "  <thead>\n",
       "    <tr style=\"text-align: right;\">\n",
       "      <th></th>\n",
       "      <th>Row ID</th>\n",
       "      <th>Postal Code</th>\n",
       "      <th>Sales</th>\n",
       "    </tr>\n",
       "  </thead>\n",
       "  <tbody>\n",
       "    <tr>\n",
       "      <th>count</th>\n",
       "      <td>9800.000000</td>\n",
       "      <td>9789.000000</td>\n",
       "      <td>9800.000000</td>\n",
       "    </tr>\n",
       "    <tr>\n",
       "      <th>mean</th>\n",
       "      <td>4900.500000</td>\n",
       "      <td>55273.322403</td>\n",
       "      <td>230.769059</td>\n",
       "    </tr>\n",
       "    <tr>\n",
       "      <th>std</th>\n",
       "      <td>2829.160653</td>\n",
       "      <td>32041.223413</td>\n",
       "      <td>626.651875</td>\n",
       "    </tr>\n",
       "    <tr>\n",
       "      <th>min</th>\n",
       "      <td>1.000000</td>\n",
       "      <td>1040.000000</td>\n",
       "      <td>0.444000</td>\n",
       "    </tr>\n",
       "    <tr>\n",
       "      <th>25%</th>\n",
       "      <td>2450.750000</td>\n",
       "      <td>23223.000000</td>\n",
       "      <td>17.248000</td>\n",
       "    </tr>\n",
       "    <tr>\n",
       "      <th>50%</th>\n",
       "      <td>4900.500000</td>\n",
       "      <td>58103.000000</td>\n",
       "      <td>54.490000</td>\n",
       "    </tr>\n",
       "    <tr>\n",
       "      <th>75%</th>\n",
       "      <td>7350.250000</td>\n",
       "      <td>90008.000000</td>\n",
       "      <td>210.605000</td>\n",
       "    </tr>\n",
       "    <tr>\n",
       "      <th>max</th>\n",
       "      <td>9800.000000</td>\n",
       "      <td>99301.000000</td>\n",
       "      <td>22638.480000</td>\n",
       "    </tr>\n",
       "  </tbody>\n",
       "</table>\n",
       "</div>"
      ],
      "text/plain": [
       "            Row ID   Postal Code         Sales\n",
       "count  9800.000000   9789.000000   9800.000000\n",
       "mean   4900.500000  55273.322403    230.769059\n",
       "std    2829.160653  32041.223413    626.651875\n",
       "min       1.000000   1040.000000      0.444000\n",
       "25%    2450.750000  23223.000000     17.248000\n",
       "50%    4900.500000  58103.000000     54.490000\n",
       "75%    7350.250000  90008.000000    210.605000\n",
       "max    9800.000000  99301.000000  22638.480000"
      ]
     },
     "execution_count": 22,
     "metadata": {},
     "output_type": "execute_result"
    }
   ],
   "source": [
    "df.describe()"
   ]
  },
  {
   "cell_type": "code",
   "execution_count": 24,
   "metadata": {},
   "outputs": [
    {
     "data": {
      "text/plain": [
       "np.float64(459.4751691791955)"
      ]
     },
     "execution_count": 24,
     "metadata": {},
     "output_type": "execute_result"
    }
   ],
   "source": [
    "df['Sales'].sum() / df['Order ID'].nunique()"
   ]
  },
  {
   "cell_type": "code",
   "execution_count": 26,
   "metadata": {},
   "outputs": [
    {
     "data": {
      "text/plain": [
       "array(['08/11/2017', '12/06/2017', '11/10/2016', ..., '18/06/2015',\n",
       "       '28/02/2018', '09/05/2016'], shape=(1230,), dtype=object)"
      ]
     },
     "execution_count": 26,
     "metadata": {},
     "output_type": "execute_result"
    }
   ],
   "source": [
    "df['Order Date'].unique()"
   ]
  },
  {
   "cell_type": "code",
   "execution_count": 7,
   "metadata": {},
   "outputs": [],
   "source": [
    "df = df.head()"
   ]
  },
  {
   "cell_type": "code",
   "execution_count": 8,
   "metadata": {},
   "outputs": [],
   "source": [
    "date_dimension = pd.DataFrame({\n",
    "    \"Full_Date\": pd.to_datetime(df[\"Order Date\"]),\n",
    "    \"Year\": pd.to_datetime(df[\"Order Date\"]).dt.year,\n",
    "    \"Quarter\": pd.to_datetime(df[\"Order Date\"]).dt.quarter,\n",
    "    \"Month\": pd.to_datetime(df[\"Order Date\"]).dt.month,\n",
    "    \"Week\": pd.to_datetime(df[\"Order Date\"]).dt.isocalendar().week,\n",
    "    \"Day_Of_Week\": pd.to_datetime(df[\"Order Date\"]).dt.day_name(),\n",
    "}).drop_duplicates().reset_index(drop=True)\n",
    "\n",
    "# Customer Dimension Table\n",
    "customer_dimension = df[[\"Customer ID\", \"Customer Name\", \"Segment\"]].drop_duplicates().reset_index(drop=True)\n",
    "customer_dimension.rename(columns={\n",
    "    \"Customer ID\": \"Customer_ID\",\n",
    "    \"Customer Name\": \"Customer_Name\"\n",
    "}, inplace=True)\n",
    "\n",
    "# Product Dimension Table\n",
    "product_dimension = df[[\"Product ID\", \"Product Name\", \"Category\", \"Sub-Category\"]].drop_duplicates().reset_index(drop=True)\n",
    "product_dimension.rename(columns={\n",
    "    \"Product ID\": \"Product_ID\",\n",
    "    \"Product Name\": \"Product_Name\",\n",
    "    \"Sub-Category\": \"Sub_Category\"\n",
    "}, inplace=True)\n",
    "\n",
    "# Location Dimension Table\n",
    "location_dimension = df[[\"Country\", \"Region\", \"State\", \"City\", \"Postal Code\"]].drop_duplicates().reset_index(drop=True)\n",
    "location_dimension.rename(columns={\"Postal Code\": \"Postal_Code\"}, inplace=True)\n",
    "\n",
    "# Ship Mode Dimension Table\n",
    "ship_mode_dimension = df[[\"Ship Mode\"]].drop_duplicates().reset_index(drop=True)\n",
    "ship_mode_dimension.rename(columns={\"Ship Mode\": \"Ship_Mode\"}, inplace=True)\n",
    "\n",
    "# Sales Fact Table\n",
    "sales_fact = pd.DataFrame({\n",
    "    \"Order_ID\": df[\"Order ID\"],\n",
    "    \"Date_Key\": pd.factorize(df[\"Order Date\"])[0] + 1,\n",
    "    \"Ship_Date_Key\": pd.factorize(df[\"Ship Date\"])[0] + 1,\n",
    "    \"Customer_Key\": pd.factorize(df[\"Customer ID\"])[0] + 1,\n",
    "    \"Product_Key\": pd.factorize(df[\"Product ID\"])[0] + 1,\n",
    "    \"Location_Key\": pd.factorize(df[\"City\"] + df[\"State\"] + df[\"Postal Code\"].astype(str))[0] + 1,\n",
    "    \"Ship_Mode_Key\": pd.factorize(df[\"Ship Mode\"])[0] + 1,\n",
    "    \"Sales\": df[\"Sales\"],\n",
    "})"
   ]
  },
  {
   "cell_type": "code",
   "execution_count": 9,
   "metadata": {},
   "outputs": [
    {
     "data": {
      "text/html": [
       "<div>\n",
       "<style scoped>\n",
       "    .dataframe tbody tr th:only-of-type {\n",
       "        vertical-align: middle;\n",
       "    }\n",
       "\n",
       "    .dataframe tbody tr th {\n",
       "        vertical-align: top;\n",
       "    }\n",
       "\n",
       "    .dataframe thead th {\n",
       "        text-align: right;\n",
       "    }\n",
       "</style>\n",
       "<table border=\"1\" class=\"dataframe\">\n",
       "  <thead>\n",
       "    <tr style=\"text-align: right;\">\n",
       "      <th></th>\n",
       "      <th>Order_ID</th>\n",
       "      <th>Date_Key</th>\n",
       "      <th>Ship_Date_Key</th>\n",
       "      <th>Customer_Key</th>\n",
       "      <th>Product_Key</th>\n",
       "      <th>Location_Key</th>\n",
       "      <th>Ship_Mode_Key</th>\n",
       "      <th>Sales</th>\n",
       "    </tr>\n",
       "  </thead>\n",
       "  <tbody>\n",
       "    <tr>\n",
       "      <th>0</th>\n",
       "      <td>CA-2017-152156</td>\n",
       "      <td>1</td>\n",
       "      <td>1</td>\n",
       "      <td>1</td>\n",
       "      <td>1</td>\n",
       "      <td>1</td>\n",
       "      <td>1</td>\n",
       "      <td>261.9600</td>\n",
       "    </tr>\n",
       "    <tr>\n",
       "      <th>1</th>\n",
       "      <td>CA-2017-152156</td>\n",
       "      <td>1</td>\n",
       "      <td>1</td>\n",
       "      <td>1</td>\n",
       "      <td>2</td>\n",
       "      <td>1</td>\n",
       "      <td>1</td>\n",
       "      <td>731.9400</td>\n",
       "    </tr>\n",
       "    <tr>\n",
       "      <th>2</th>\n",
       "      <td>CA-2017-138688</td>\n",
       "      <td>2</td>\n",
       "      <td>2</td>\n",
       "      <td>2</td>\n",
       "      <td>3</td>\n",
       "      <td>2</td>\n",
       "      <td>1</td>\n",
       "      <td>14.6200</td>\n",
       "    </tr>\n",
       "    <tr>\n",
       "      <th>3</th>\n",
       "      <td>US-2016-108966</td>\n",
       "      <td>3</td>\n",
       "      <td>3</td>\n",
       "      <td>3</td>\n",
       "      <td>4</td>\n",
       "      <td>3</td>\n",
       "      <td>2</td>\n",
       "      <td>957.5775</td>\n",
       "    </tr>\n",
       "    <tr>\n",
       "      <th>4</th>\n",
       "      <td>US-2016-108966</td>\n",
       "      <td>3</td>\n",
       "      <td>3</td>\n",
       "      <td>3</td>\n",
       "      <td>5</td>\n",
       "      <td>3</td>\n",
       "      <td>2</td>\n",
       "      <td>22.3680</td>\n",
       "    </tr>\n",
       "  </tbody>\n",
       "</table>\n",
       "</div>"
      ],
      "text/plain": [
       "         Order_ID  Date_Key  Ship_Date_Key  Customer_Key  Product_Key  \\\n",
       "0  CA-2017-152156         1              1             1            1   \n",
       "1  CA-2017-152156         1              1             1            2   \n",
       "2  CA-2017-138688         2              2             2            3   \n",
       "3  US-2016-108966         3              3             3            4   \n",
       "4  US-2016-108966         3              3             3            5   \n",
       "\n",
       "   Location_Key  Ship_Mode_Key     Sales  \n",
       "0             1              1  261.9600  \n",
       "1             1              1  731.9400  \n",
       "2             2              1   14.6200  \n",
       "3             3              2  957.5775  \n",
       "4             3              2   22.3680  "
      ]
     },
     "execution_count": 9,
     "metadata": {},
     "output_type": "execute_result"
    }
   ],
   "source": [
    "\n",
    "sales_fact"
   ]
  },
  {
   "cell_type": "code",
   "execution_count": 10,
   "metadata": {},
   "outputs": [
    {
     "data": {
      "text/html": [
       "<div>\n",
       "<style scoped>\n",
       "    .dataframe tbody tr th:only-of-type {\n",
       "        vertical-align: middle;\n",
       "    }\n",
       "\n",
       "    .dataframe tbody tr th {\n",
       "        vertical-align: top;\n",
       "    }\n",
       "\n",
       "    .dataframe thead th {\n",
       "        text-align: right;\n",
       "    }\n",
       "</style>\n",
       "<table border=\"1\" class=\"dataframe\">\n",
       "  <thead>\n",
       "    <tr style=\"text-align: right;\">\n",
       "      <th></th>\n",
       "      <th>Product_ID</th>\n",
       "      <th>Product_Name</th>\n",
       "      <th>Category</th>\n",
       "      <th>Sub_Category</th>\n",
       "    </tr>\n",
       "  </thead>\n",
       "  <tbody>\n",
       "    <tr>\n",
       "      <th>0</th>\n",
       "      <td>FUR-BO-10001798</td>\n",
       "      <td>Bush Somerset Collection Bookcase</td>\n",
       "      <td>Furniture</td>\n",
       "      <td>Bookcases</td>\n",
       "    </tr>\n",
       "    <tr>\n",
       "      <th>1</th>\n",
       "      <td>FUR-CH-10000454</td>\n",
       "      <td>Hon Deluxe Fabric Upholstered Stacking Chairs,...</td>\n",
       "      <td>Furniture</td>\n",
       "      <td>Chairs</td>\n",
       "    </tr>\n",
       "    <tr>\n",
       "      <th>2</th>\n",
       "      <td>OFF-LA-10000240</td>\n",
       "      <td>Self-Adhesive Address Labels for Typewriters b...</td>\n",
       "      <td>Office Supplies</td>\n",
       "      <td>Labels</td>\n",
       "    </tr>\n",
       "    <tr>\n",
       "      <th>3</th>\n",
       "      <td>FUR-TA-10000577</td>\n",
       "      <td>Bretford CR4500 Series Slim Rectangular Table</td>\n",
       "      <td>Furniture</td>\n",
       "      <td>Tables</td>\n",
       "    </tr>\n",
       "    <tr>\n",
       "      <th>4</th>\n",
       "      <td>OFF-ST-10000760</td>\n",
       "      <td>Eldon Fold 'N Roll Cart System</td>\n",
       "      <td>Office Supplies</td>\n",
       "      <td>Storage</td>\n",
       "    </tr>\n",
       "  </tbody>\n",
       "</table>\n",
       "</div>"
      ],
      "text/plain": [
       "        Product_ID                                       Product_Name  \\\n",
       "0  FUR-BO-10001798                  Bush Somerset Collection Bookcase   \n",
       "1  FUR-CH-10000454  Hon Deluxe Fabric Upholstered Stacking Chairs,...   \n",
       "2  OFF-LA-10000240  Self-Adhesive Address Labels for Typewriters b...   \n",
       "3  FUR-TA-10000577      Bretford CR4500 Series Slim Rectangular Table   \n",
       "4  OFF-ST-10000760                     Eldon Fold 'N Roll Cart System   \n",
       "\n",
       "          Category Sub_Category  \n",
       "0        Furniture    Bookcases  \n",
       "1        Furniture       Chairs  \n",
       "2  Office Supplies       Labels  \n",
       "3        Furniture       Tables  \n",
       "4  Office Supplies      Storage  "
      ]
     },
     "execution_count": 10,
     "metadata": {},
     "output_type": "execute_result"
    }
   ],
   "source": [
    "product_dimension"
   ]
  },
  {
   "cell_type": "code",
   "execution_count": null,
   "metadata": {},
   "outputs": [],
   "source": []
  }
 ],
 "metadata": {
  "kernelspec": {
   "display_name": "data_mlops",
   "language": "python",
   "name": "python3"
  },
  "language_info": {
   "codemirror_mode": {
    "name": "ipython",
    "version": 3
   },
   "file_extension": ".py",
   "mimetype": "text/x-python",
   "name": "python",
   "nbconvert_exporter": "python",
   "pygments_lexer": "ipython3",
   "version": "3.12.8"
  }
 },
 "nbformat": 4,
 "nbformat_minor": 2
}
